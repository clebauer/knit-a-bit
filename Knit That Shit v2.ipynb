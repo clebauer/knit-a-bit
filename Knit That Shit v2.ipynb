{
 "cells": [
  {
   "cell_type": "code",
   "execution_count": 19,
   "metadata": {},
   "outputs": [],
   "source": [
    "seed_choice = 2"
   ]
  },
  {
   "cell_type": "code",
   "execution_count": 10,
   "metadata": {},
   "outputs": [],
   "source": [
    "import random\n",
    "import numpy as np"
   ]
  },
  {
   "cell_type": "code",
   "execution_count": 20,
   "metadata": {},
   "outputs": [],
   "source": [
    "def sample_sets(which):\n",
    "    np.random.seed(seed_choice)\n",
    "    sets = {0: np.random.randint(0,4,15),\n",
    "            1: np.random.randint(0,4,15),\n",
    "            2: np.random.randint(0,4,30),\n",
    "            3: np.random.randint(0,4,30),\n",
    "            4: np.random.randint(0,4,60),\n",
    "            5: np.random.randint(0,4,60)}\n",
    "    try:\n",
    "        return sets[which]\n",
    "    except:\n",
    "        return sets.keys()"
   ]
  },
  {
   "cell_type": "code",
   "execution_count": null,
   "metadata": {},
   "outputs": [],
   "source": [
    "# converts value to a given stitch, returning specific info if requested.\n",
    "\n",
    "#########################\n",
    "###### DEFINITIONS ######\n",
    "#########################\n",
    "# shorthand         | shorthand text\n",
    "# name              | long-form text\n",
    "# num_st_req        | how many stitches it takes\n",
    "# num_st_made       | how many stitches it results in\n",
    "# buffer_st_before  | how many buffer stitches are required before (ex// yo needs at least one st before/after)\n",
    "# buffer_st_after   | how many buffer stitches are required after  (ex// yo needs at least one st before/after)\n",
    "def convert_st(val):\n",
    "    mapped_stitches = {0:{'shorthand':'k',\n",
    "                               'name':'knit',\n",
    "                         'num_st_req': 1,\n",
    "                        'num_st_made': 1,\n",
    "                   'buffer_st_before': 0,\n",
    "                    'buffer_st_after': 0},\n",
    "                       \n",
    "                       1:{'shorthand':'p',\n",
    "                               'name':'purl',\n",
    "                         'num_st_req': 1,\n",
    "                        'num_st_made': 1,\n",
    "                   'buffer_st_needed': 0,\n",
    "                    'buffer_st_after': 0},\n",
    "                       \n",
    "                       2:{'shorthand':'yo',\n",
    "                               'name':'yarn over',\n",
    "                         'num_st_req': 1,\n",
    "                        'num_st_made': 2,\n",
    "                   'buffer_st_needed': 1,\n",
    "                    'buffer_st_after': 1},\n",
    "                       \n",
    "                       3:{'shorthand':'k2tog',\n",
    "                               'name':'knit two together',\n",
    "                         'num_st_req': 2,\n",
    "                        'num_st_made': 1,\n",
    "                   'buffer_st_needed': 0,\n",
    "                    'buffer_st_after': 0}}\n",
    "    \n",
    "    return mapped_stitches[val][part]"
   ]
  },
  {
   "cell_type": "code",
   "execution_count": 23,
   "metadata": {},
   "outputs": [],
   "source": [
    "test_set = sample_sets(0)"
   ]
  },
  {
   "cell_type": "code",
   "execution_count": 36,
   "metadata": {},
   "outputs": [],
   "source": [
    "def create_pattern(dataset, row_width):\n",
    "    row = 1\n",
    "    row_st_list = []\n",
    "    row_st_text = ''\n",
    "    \n",
    "    num_st_in_row = 0\n",
    "    \n",
    "    for value in dataset:\n",
    "        new_st = convert_st(value)\n",
    "        shorthand = new_st['shorthand']\n",
    "        num_st_need = new_st['num_st_req']\n",
    "        print(value,\":\",new_st['shorthand'])\n",
    "        \n",
    "        if num_st_in_row + new_st['num_st_made'] <= row_width:\n",
    "            row_st_list += [new_st['shorthand']]\n",
    "            num_st_in_row += new_st['num_st_made']\n",
    "        else:\n",
    "            row += 1\n",
    "            num_st_in_row = num_st_in_row + new_st\n",
    "        print('Total st:',num_st_in_row)"
   ]
  },
  {
   "cell_type": "code",
   "execution_count": 37,
   "metadata": {},
   "outputs": [
    {
     "name": "stdout",
     "output_type": "stream",
     "text": [
      "0 : k\n",
      "Total st: 1\n",
      "3 : k2tog\n",
      "Total st: 2\n",
      "1 : p\n",
      "Total st: 3\n",
      "0 : k\n",
      "Total st: 4\n",
      "2 : yo\n",
      "Total st: 4\n",
      "3 : k2tog\n",
      "Total st: 4\n",
      "2 : yo\n",
      "Total st: 4\n",
      "3 : k2tog\n",
      "Total st: 4\n",
      "0 : k\n",
      "Total st: 4\n",
      "3 : k2tog\n",
      "Total st: 4\n",
      "2 : yo\n",
      "Total st: 4\n",
      "1 : p\n",
      "Total st: 4\n",
      "3 : k2tog\n",
      "Total st: 4\n",
      "3 : k2tog\n",
      "Total st: 4\n",
      "1 : p\n",
      "Total st: 4\n"
     ]
    }
   ],
   "source": [
    "create_pattern(test_set,4)"
   ]
  },
  {
   "cell_type": "code",
   "execution_count": null,
   "metadata": {},
   "outputs": [],
   "source": []
  }
 ],
 "metadata": {
  "kernelspec": {
   "display_name": "Python 3",
   "language": "python",
   "name": "python3"
  },
  "language_info": {
   "codemirror_mode": {
    "name": "ipython",
    "version": 3
   },
   "file_extension": ".py",
   "mimetype": "text/x-python",
   "name": "python",
   "nbconvert_exporter": "python",
   "pygments_lexer": "ipython3",
   "version": "3.8.5"
  }
 },
 "nbformat": 4,
 "nbformat_minor": 4
}
