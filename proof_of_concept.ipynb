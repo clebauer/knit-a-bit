{
 "cells": [
  {
   "cell_type": "markdown",
   "metadata": {},
   "source": [
    "Some edge-cases to consider:\n",
    "1. When the last stitch needs more stitches than the row contains.\n",
    "2. When the first or last stitch is a yarn-over (https://giphy.com/explore/nope-dont-like-that)\n",
    "3. Crochet stitch mapping looks w e i r d.\n",
    "\n",
    "And things to implement:\n",
    "1. Amount of yarn estimator (both vague and with input).\n",
    "2. Color suggestions\n",
    "3. Later on, make for crochet!\n"
   ]
  },
  {
   "cell_type": "code",
   "execution_count": null,
   "metadata": {
    "collapsed": true
   },
   "outputs": [],
   "source": [
    "def gen_mapping(craft='knitting'):\n",
    "    mapping = {}\n",
    "    if craft == 'knitting':\n",
    "        mapping = {0:{'name':'k',     'needed':1,  'created':1,},\n",
    "                   1:{'name':'p',     'needed':1,  'created':1,},\n",
    "                   2:{'name':'yo',    'needed':0,  'created':1,},\n",
    "                   3:{'name':'k2tog', 'needed':2,  'created':1}}\n",
    "    else:#if craft == 'crochet':\n",
    "        mapping = {0:{'name':'sc',     'needed':1, 'created':1},\n",
    "                   1:{'name':'dc',     'needed':1, 'created':1},\n",
    "                   2:{'name':'ch',     'needed':0, 'created':0},\n",
    "                   3:{'name':'sc2tog', 'needed':2, 'created':1}}\n",
    "    return mapping"
   ]
  },
  {
   "cell_type": "code",
   "execution_count": null,
   "metadata": {
    "collapsed": true
   },
   "outputs": [],
   "source": [
    "def cast_on(num_sts):\n",
    "    return 'Cast on {} sts\\n\\n'.format(num_sts)\n",
    "\n",
    "def cast_off(num_sts):\n",
    "    return '\\nCast off {} sts'.format(num_sts)\n",
    "\n",
    "def row_def(row_num):\n",
    "    return ['Row #{}: '.format(row_num)]\n",
    "\n",
    "def physically_write_pattern(starting_width, ending_width, instructions):\n",
    "    text_pattern = ''\n",
    "    text_pattern += cast_on(starting_width)\n",
    "    for x in range(0, len(instructions), 3):\n",
    "        text_pattern += '{} {} ({} sts)\\n'.format(instructions[x][0],\n",
    "                                                  ' '.join(instructions[x+1]),\n",
    "                                                  instructions[x+2][0])\n",
    "    \n",
    "    text_pattern += cast_off(ending_width)\n",
    "    return text_pattern"
   ]
  },
  {
   "cell_type": "code",
   "execution_count": 1,
   "metadata": {
    "collapsed": true,
    "scrolled": true
   },
   "outputs": [],
   "source": [
    "def pattern_generator(sample_data, starting_width, mapping='default'):\n",
    "    # pull the 0-3 mapping for new projects, given the right craft.\n",
    "    mapping = gen_mapping('knitting')\n",
    "    \n",
    "    # with the mapping in hand, set up our counters\n",
    "    row_counter = 1\n",
    "    \n",
    "    # determine the previous row width (stitch count) and current row width counters\n",
    "    prev_row_width = starting_width\n",
    "    curr_row_width = 0\n",
    "    ending_width = 0\n",
    "    \n",
    "    # create a placeholder to place all instruction rows into\n",
    "    instructions = [row_def(row_counter)]\n",
    "    line = []\n",
    "        \n",
    "    # while there are still stitches to implement,\n",
    "    while(sample_data):\n",
    "        # grab that stitch, remove it from the available stitches, and map it to its stitch\n",
    "        elem = sample_data.pop(0)\n",
    "        st = mapping[elem]\n",
    "        \n",
    "        # if we still have stitches to work with\n",
    "        if prev_row_width >= st['needed']:\n",
    "            prev_row_width -= st['needed']  # keep track of old stitches being used.\n",
    "            curr_row_width += st['created'] # keep track of new stitches being created.\n",
    "            line.append(st['name'])         # add the new stitch to the line of instruction\n",
    "        # otherwise, we want to push the instructions to be stored and reset\n",
    "        else:\n",
    "            #line += ['k' for x in range(0, prev_row_width)] # if st left less than next st, pad row with 'k' stitches\n",
    "            instructions.append(line)                       # place the line into the instructions\n",
    "            line = [st['name']]                             # reset the line\n",
    "            prev_row_width = curr_row_width - st['needed']  # reset the prev_row_width\n",
    "            curr_row_width = st['created']                  # reset the curr_row_width\n",
    "            row_counter += 1                                # increment row counter\n",
    "            instructions.append([str(prev_row_width + st['needed'])])\n",
    "            instructions.append(row_def(row_counter))       # place the new row counter into the instructions\n",
    "    else:\n",
    "        line += ['k' for x in range(0, prev_row_width)] # if st left less than next st, pad row with 'k' stitches\n",
    "        ending_width = curr_row_width + prev_row_width\n",
    "        instructions.append(line) # place the last line into the instructions \n",
    "        \n",
    "        instructions.append([ending_width])\n",
    "\n",
    "    #return instructions\n",
    "    return physically_write_pattern(starting_width, ending_width, instructions)  "
   ]
  },
  {
   "cell_type": "code",
   "execution_count": 69,
   "metadata": {},
   "outputs": [
    {
     "name": "stdout",
     "output_type": "stream",
     "text": [
      "Cast on 10 sts\n",
      "\n",
      "Row #1:  k2tog yo k2tog yo k2tog yo k2tog yo yo k2tog (10 sts)\n",
      "Row #2:  k k k k k k k k k k (10 sts)\n",
      "Row #3:  p p p p p p p p p (9 sts)\n",
      "Row #4:  k2tog yo k2tog yo yo k yo k k k k (11 sts)\n",
      "\n",
      "Cast off 11 sts\n"
     ]
    }
   ],
   "source": [
    "sample_data = [3, 2, 3, 2, 3, 2, 3, 2, 2, 3, \n",
    "               0, 0, 0, 0, 0, 0, 0, 0, 0, 0,\n",
    "               1, 1, 1, 1, 1, 1, 1, 1, 1, \n",
    "               3, 2, 3, 2, 2, 0, 2]\n",
    "\n",
    "print pattern_generator(sample_data, 10)"
   ]
  },
  {
   "cell_type": "code",
   "execution_count": 51,
   "metadata": {
    "collapsed": true
   },
   "outputs": [],
   "source": [
    "# Now it's time to test my program for a section of randomly generated data"
   ]
  },
  {
   "cell_type": "code",
   "execution_count": 70,
   "metadata": {
    "scrolled": true
   },
   "outputs": [
    {
     "name": "stdout",
     "output_type": "stream",
     "text": [
      "[3, 3, 3, 0, 2, 2, 2, 3, 3, 2, 0, 3, 0, 0, 2, 0, 0, 2, 3, 1, 0, 0, 1, 3, 0, 0, 1, 0, 3, 2, 1, 1, 2, 0, 3, 1, 0, 1, 2, 0, 0, 3, 3, 3, 3, 3, 3, 3, 0, 3, 3, 1, 1, 3, 0, 2, 2, 0, 2, 3] \n",
      "\n",
      "Cast on 10 sts\n",
      "\n",
      "Row #1:  k2tog k2tog k2tog k yo yo yo k2tog (8 sts)\n",
      "Row #2:  k2tog yo k k2tog k k yo k (8 sts)\n",
      "Row #3:  k yo k2tog p k k p (7 sts)\n",
      "Row #4:  k2tog k k p k (5 sts)\n",
      "Row #5:  k2tog yo p p yo k (6 sts)\n",
      "Row #6:  k2tog p k p yo k (6 sts)\n",
      "Row #7:  k k2tog k2tog (3 sts)\n",
      "Row #8:  k2tog (1 sts)\n",
      "Row #9:  k2tog (1 sts)\n",
      "Row #10:  k2tog (1 sts)\n",
      "Row #11:  k2tog (1 sts)\n",
      "Row #12:  k2tog (1 sts)\n",
      "Row #13:  k (1 sts)\n",
      "Row #14:  k2tog (1 sts)\n",
      "Row #15:  k2tog (1 sts)\n",
      "Row #16:  p (1 sts)\n",
      "Row #17:  p (1 sts)\n",
      "Row #18:  k2tog (1 sts)\n",
      "Row #19:  k yo yo (3 sts)\n",
      "Row #20:  k yo k2tog (3 sts)\n",
      "\n",
      "Cast off 3 sts\n"
     ]
    }
   ],
   "source": [
    "import random\n",
    "data_point_length = random.randint(40,60)\n",
    "\n",
    "data_points = []\n",
    "\n",
    "for i in range(data_point_length):\n",
    "    data_points.append(random.randint(0,3))\n",
    "\n",
    "print data_points, '\\n'\n",
    "\n",
    "print pattern_generator(data_points, 10)"
   ]
  }
 ],
 "metadata": {
  "kernelspec": {
   "display_name": "Python 2",
   "language": "python",
   "name": "python2"
  },
  "language_info": {
   "codemirror_mode": {
    "name": "ipython",
    "version": 2
   },
   "file_extension": ".py",
   "mimetype": "text/x-python",
   "name": "python",
   "nbconvert_exporter": "python",
   "pygments_lexer": "ipython2",
   "version": "2.7.12"
  }
 },
 "nbformat": 4,
 "nbformat_minor": 2
}
