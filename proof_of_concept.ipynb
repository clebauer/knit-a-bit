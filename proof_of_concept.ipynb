{
 "cells": [
  {
   "cell_type": "code",
   "execution_count": 81,
   "metadata": {
    "scrolled": true
   },
   "outputs": [
    {
     "name": "stdout",
     "output_type": "stream",
     "text": [
      "CAST ON 10 STS\n",
      "K K YO P K K2TOG K2TOG (10 st)\n",
      "K2TOG K2TOG K2TOG P P K P P (9 st)\n",
      "K2TOG YO P P K K2TOG YO YO YO K2TOG P (9 st)\n",
      "K2TOG P P K2TOG YO P YO K2TOG K YO YO (9 st)\n",
      "K2TOG K YO P YO K2TOG YO P P \n"
     ]
    }
   ],
   "source": [
    "# PROOF OF CONCEPT\n",
    "\n",
    "import random\n",
    "\n",
    "# define width of pattern\n",
    "width = 10\n",
    "\n",
    "# generates temporary number of data points i'm pulling\n",
    "total_data_pts = random.randint(40,50)\n",
    "\n",
    "\n",
    "sample_data = []\n",
    "# for each pretend data point\n",
    "for x in range(0, total_data_pts):\n",
    "    # generate a random number to be considered the \"actual data point gathered\"\n",
    "    num = random.randint(0,3)\n",
    "    sample_data.append(num)\n",
    "    \n",
    "\n",
    "\n",
    "mapping = {0:{'stitch':'K',     'st_use':1, 'st_now':1,},\n",
    "           1:{'stitch':'P',     'st_use':1, 'st_now':1,},\n",
    "           2:{'stitch':'YO',    'st_use':0, 'st_now':1,},\n",
    "           3:{'stitch':'K2TOG', 'st_use':2, 'st_now':1}}\n",
    "\n",
    "knitting_pattern = 'CAST ON {} STS\\n'.format(width)\n",
    "\n",
    "prev_row_ct = width\n",
    "curr_row_ct = 0\n",
    "\n",
    "# for each stitch (ex: 3)\n",
    "# map to appropriate stitch (ex: K2TOG, st_use: 2)\n",
    "# check if the prev_row_ct is greater than 0.\n",
    "# if it is, then:\n",
    "    # subtract st_use value from prev_row_ct to set how many stitches we have left to use\n",
    "    # add st_now value to curr_row_ct to set how many stitches we currently have.\n",
    "# if it isn't:\n",
    "    # it's either 0 or it's -1\n",
    "    # if it's -1\n",
    "\n",
    "for x in sample_data:\n",
    "    \n",
    "\n",
    "    max_st -= (1- mapping[x]['st_gain'])\n",
    "    if max_st <= 0:\n",
    "        max_st += width\n",
    "        knitting_pattern += '({} st)\\n'.format(max_st)\n",
    "    knitting_pattern += (mapping[x]['stitch'] + ' ')\n",
    "    \n",
    "\n",
    "\n",
    "\n",
    "print knitting_pattern"
   ]
  },
  {
   "cell_type": "code",
   "execution_count": null,
   "metadata": {
    "collapsed": true
   },
   "outputs": [],
   "source": []
  }
 ],
 "metadata": {
  "kernelspec": {
   "display_name": "Python 2",
   "language": "python",
   "name": "python2"
  },
  "language_info": {
   "codemirror_mode": {
    "name": "ipython",
    "version": 2
   },
   "file_extension": ".py",
   "mimetype": "text/x-python",
   "name": "python",
   "nbconvert_exporter": "python",
   "pygments_lexer": "ipython2",
   "version": "2.7.12"
  }
 },
 "nbformat": 4,
 "nbformat_minor": 2
}
