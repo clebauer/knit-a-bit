{
 "cells": [
  {
   "cell_type": "code",
   "execution_count": 45,
   "metadata": {},
   "outputs": [],
   "source": [
    "seed_choice = 1"
   ]
  },
  {
   "cell_type": "code",
   "execution_count": 50,
   "metadata": {},
   "outputs": [],
   "source": [
    "import random\n",
    "import numpy as np"
   ]
  },
  {
   "cell_type": "code",
   "execution_count": 59,
   "metadata": {},
   "outputs": [],
   "source": [
    "def sample_sets(which):\n",
    "    np.random.seed(seed_choice)\n",
    "    sets = {0: np.random.randint(0,4,15),\n",
    "            1: np.random.randint(0,4,15),\n",
    "            2: np.random.randint(0,4,30),\n",
    "            3: np.random.randint(0,4,30),\n",
    "            4: np.random.randint(0,4,60),\n",
    "            5: np.random.randint(0,4,60)}\n",
    "    try:\n",
    "        return sets[which]\n",
    "    except:\n",
    "        return sets.keys()"
   ]
  },
  {
   "cell_type": "code",
   "execution_count": 70,
   "metadata": {},
   "outputs": [],
   "source": [
    "# converts value to a given stitch, returning specific info if requested.\n",
    "def convert_st(val, part=''):\n",
    "    mapped_stitches = {0:{'shorthand':'k',\n",
    "                               'name':'knit',\n",
    "                         'num_st_req': 1,\n",
    "                        'num_st_made': 1,\n",
    "                   'buffer_st_needed': 0},\n",
    "                       1:{'shorthand':'p',\n",
    "                               'name':'purl',\n",
    "                         'num_st_req': 1,\n",
    "                        'num_st_made': 1,\n",
    "                   'buffer_st_needed': 0},\n",
    "                       2:{'shorthand':'yo',\n",
    "                               'name':'yarn over',\n",
    "                         'num_st_req': 1,\n",
    "                        'num_st_made': 2,\n",
    "                   'buffer_st_needed': 1},\n",
    "                       3:{'shorthand':'k2tog',\n",
    "                               'name':'knit two together',\n",
    "                         'num_st_req': 2,\n",
    "                        'num_st_made': 1,\n",
    "                   'buffer_st_needed': 0}}\n",
    "    \n",
    "    # throw an exception if either the val or the part aren't real values\n",
    "    try:\n",
    "        if part == '':\n",
    "            return mapped_stitches[val]\n",
    "        return mapped_stitches[val][part]\n",
    "    # if the exception is thrown, send back the available keys and subkeys\n",
    "    except:\n",
    "        return mapped_stitches.keys(), mapped_stitches[0].keys()"
   ]
  },
  {
   "cell_type": "code",
   "execution_count": 128,
   "metadata": {},
   "outputs": [],
   "source": [
    "def create_pattern_text(pattern_dict):\n",
    "    p_text = ''\n",
    "    for k,v in pattern_dict.items():\n",
    "        p_text += f'Row {k}: {v}\\n'\n",
    "    return p_text"
   ]
  },
  {
   "cell_type": "code",
   "execution_count": 223,
   "metadata": {},
   "outputs": [
    {
     "data": {
      "text/plain": [
       "[0, 1]"
      ]
     },
     "execution_count": 223,
     "metadata": {},
     "output_type": "execute_result"
    }
   ],
   "source": [
    "[0, 1, 0, 1, 0]"
   ]
  },
  {
   "cell_type": "code",
   "execution_count": 251,
   "metadata": {},
   "outputs": [],
   "source": [
    "def create_pattern(st_set, row_width, to_print=True):\n",
    "    print(st_set)\n",
    "    print([convert_st(i)['shorthand'] for i in st_set])\n",
    "    row_num = 1\n",
    "    num_st_from_prev_row = row_width\n",
    "    row_st_list = []\n",
    "    row_st_text = ''\n",
    "    \n",
    "    pattern_dict = {0:f'Cast on {num_st_from_prev_row} sts.'}\n",
    "\n",
    "    for x in st_set:\n",
    "        new_st = convert_st(x)\n",
    "        #print(f'---\\nSETUP: *{new_st[\"shorthand\"]}*, Row #: {row_num}, Prev Row St: {num_st_from_prev_row}, Curr Row St: {len(row_st_list)}')\n",
    "\n",
    "        # if the number of stitches needed is available: add to text lst, current stitches++.\n",
    "        # if no, but current_sts < prev_row_width, pad with k st. #TODO: you sure?\n",
    "        # otherwise, push row_num:row_text to pattern_dict, row_num++, and clear curr_st + row_text to start over\n",
    "\n",
    "        #TODO: consider while??? HOLD ONTO \"k3tog\", pad it with bullshit, then go into k3tog Next Row. If STILL CANT, ...throw away the st?\n",
    "        # if 3 <= 2:\n",
    "        if new_st['num_st_req'] <= num_st_from_prev_row:\n",
    "            row_st_list.append(new_st['shorthand'])\n",
    "            # 5 - 1\n",
    "            num_st_from_prev_row -= new_st['num_st_req']\n",
    "            # 0 +\n",
    "            \n",
    "#                 if num_st_from_prev_row != 0:\n",
    "    # TODO: ITS SOMETHING HERE\n",
    "        elif num_st_from_prev_row != 0:\n",
    "            #TODO: account for ~k3tog\n",
    "            # chooses either 0 or 1, mapping to k or p\n",
    "            rand_st = np.random.randint(0,2)\n",
    "            for y in range(num_st_from_prev_row):\n",
    "                row_st_list.append(convert_st(rand_st)['shorthand'])\n",
    "            num_st_from_prev_row = 0\n",
    "            \n",
    "            \n",
    "        if num_st_from_prev_row == 0:\n",
    "            row_st_text = ', '.join(row_st_list) + f' ({len(row_st_list)} sts)'\n",
    "            pattern_dict[row_num] = row_st_text\n",
    "            row_num += 1\n",
    "\n",
    "            # clear all values\n",
    "            num_st_from_prev_row = len(row_st_list)\n",
    "            row_st_list = []\n",
    "            row_st_text = ''\n",
    "\n",
    "#     print(num_st_from_prev_row)\n",
    "    # account for when we're done, pero there's still leftover stitches.\n",
    "    pattern_text = create_pattern_text(pattern_dict)\n",
    "    \n",
    "    if not to_print:\n",
    "        return pattern_text\n",
    "    print(pattern_text)"
   ]
  },
  {
   "cell_type": "code",
   "execution_count": 252,
   "metadata": {},
   "outputs": [],
   "source": [
    "simple_test1 = [0,1,0,1,0] #5\n",
    "simple_test2 = [0,2,1,1, ] #3"
   ]
  },
  {
   "cell_type": "code",
   "execution_count": 265,
   "metadata": {
    "scrolled": true
   },
   "outputs": [
    {
     "name": "stdout",
     "output_type": "stream",
     "text": [
      "[3 1 0 1 0 0 2 0 1 2 3 0 1 3 1 0 2 0 0 0 0 1 2 0 1 0 2 3 1 2 0 0 3 2 2 2 0\n",
      " 1 2 2 2 2 3 3 0 2 3 1 1 2 0 2 0 2 1 1 1 2 1 1]\n",
      "['k2tog', 'p', 'k', 'p', 'k', 'k', 'yo', 'k', 'p', 'yo', 'k2tog', 'k', 'p', 'k2tog', 'p', 'k', 'yo', 'k', 'k', 'k', 'k', 'p', 'yo', 'k', 'p', 'k', 'yo', 'k2tog', 'p', 'yo', 'k', 'k', 'k2tog', 'yo', 'yo', 'yo', 'k', 'p', 'yo', 'yo', 'yo', 'yo', 'k2tog', 'k2tog', 'k', 'yo', 'k2tog', 'p', 'p', 'yo', 'k', 'yo', 'k', 'yo', 'p', 'p', 'p', 'yo', 'p', 'p']\n",
      "Row 0: Cast on 15 sts.\n",
      "Row 1: k2tog, p, k, p, k, k, yo, k, p, yo, k2tog, k, p (13 sts)\n",
      "Row 2: k2tog, p, k, yo, k, k, k, k, p, yo, k, p (12 sts)\n",
      "Row 3: k, yo, k2tog, p, yo, k, k, k2tog, yo, yo (10 sts)\n",
      "Row 4: yo, k, p, yo, yo, yo, yo, k2tog, k (9 sts)\n",
      "Row 5: k, yo, k2tog, p, p, yo, k, yo (8 sts)\n",
      "Row 6: k, yo, p, p, p, yo, p, p (8 sts)\n",
      "\n"
     ]
    }
   ],
   "source": [
    "# 0 K   2 YO\n",
    "# 1 P   3 K2TOG\n",
    "create_pattern(sample_sets(5),15)\n"
   ]
  },
  {
   "cell_type": "code",
   "execution_count": null,
   "metadata": {},
   "outputs": [],
   "source": [
    "|   |   |   |   |   row 0. (5)\n",
    "-----------------\n",
    "p   k2tog   k   k\n",
    "|     |     |   |   row 1. (4)\n",
    "-----------------\n",
    "k2tog       p   k\n",
    "   |        |   |  row 2. (3)\n",
    "    \n",
    "1 HAPPENED: 'p', 'k2tog', 'k', 'k'\n",
    "2 HAPPENED:'k2tog', 'p', \n",
    "2 ADDED: k\n",
    "LOSE: 'k2tog'\n",
    "3 HAPPENED: 'p', 'k2tog' \n",
    "4 HAPPENED: 'k', 'k'\n",
    "5 HAPPENED: 'p', 'k'\n",
    "6 HAPPENED: 'k2tog'\n",
    "7 HAPPENED: 'p'"
   ]
  },
  {
   "cell_type": "code",
   "execution_count": null,
   "metadata": {},
   "outputs": [],
   "source": [
    "RUN 1 \n",
    "used row1: 'p', 'k2tog', 'k', 'k', \n",
    "LOST:'k2tog'\n",
    "used row2: 'p', 'k2tog', 'p',\n",
    "LOST: 'k2tog'\n",
    "used row4: 'k', 'k', 'p', \n",
    "LOST: 'k' \n",
    "used row4'k2tog', 'p']"
   ]
  },
  {
   "cell_type": "code",
   "execution_count": null,
   "metadata": {},
   "outputs": [],
   "source": [
    "|   |   |   |   |   row 0. (5)\n",
    "-----------------\n",
    "p   k2tog   k   k\n",
    "|     |     |   |   row 1. (4)\n",
    "-----------------\n",
    "p.    k2tog.    p\n",
    "|.       |.     |.  row 2. (3)\n"
   ]
  },
  {
   "cell_type": "code",
   "execution_count": 182,
   "metadata": {},
   "outputs": [],
   "source": [
    "#(works for 5, not for 6. lets figure that out l8r)"
   ]
  },
  {
   "cell_type": "code",
   "execution_count": null,
   "metadata": {},
   "outputs": [],
   "source": [
    "#    k: 1->1  0\n",
    "#k2tog: 2->1  0\n",
    "#   yo: 0->1  1  FOR NOW put in a catch for \"don't do this for yarn overs?\"\n",
    "## OPTION 2: put ^ that value in the dictionary before\n",
    "\n",
    "|   |   |   |   |   row 1. (5)\n",
    "-----------------\n",
    "k   k   k2tog   k\n",
    "|   |     |     |   row 2. (4)\n",
    "-----------------\n",
    "k   k  yo k     k\n",
    "|   |  +  |     |   row 3. (5) \n",
    "-----------------\n",
    "k   k  k  k     k\n",
    "|   |  |  |     |"
   ]
  }
 ],
 "metadata": {
  "kernelspec": {
   "display_name": "Python 3",
   "language": "python",
   "name": "python3"
  },
  "language_info": {
   "codemirror_mode": {
    "name": "ipython",
    "version": 3
   },
   "file_extension": ".py",
   "mimetype": "text/x-python",
   "name": "python",
   "nbconvert_exporter": "python",
   "pygments_lexer": "ipython3",
   "version": "3.8.5"
  }
 },
 "nbformat": 4,
 "nbformat_minor": 4
}
