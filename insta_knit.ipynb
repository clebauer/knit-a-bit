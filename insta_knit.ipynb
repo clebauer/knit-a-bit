{
 "cells": [
  {
   "cell_type": "code",
   "execution_count": 26,
   "metadata": {},
   "outputs": [],
   "source": [
    "import requests\n",
    "from bs4 import BeautifulSoup\n",
    "\n",
    "from instagram_private_api import Client, ClientCompatPatch\n",
    "from PIL import Image\n",
    "from io import BytesIO\n",
    "\n",
    "import numpy as np\n",
    "import scipy\n",
    "import scipy.cluster\n",
    "import binascii"
   ]
  },
  {
   "cell_type": "code",
   "execution_count": 27,
   "metadata": {},
   "outputs": [],
   "source": [
    "# pull insta page\n",
    "page = requests.get(\"https://www.instagram.com/mkchroma/\")\n",
    "soup = BeautifulSoup(page.content, 'html.parser')\n"
   ]
  },
  {
   "cell_type": "code",
   "execution_count": 28,
   "metadata": {},
   "outputs": [],
   "source": [
    "# log in\n",
    "user_name = 'mkchroma'"
   ]
  },
  {
   "cell_type": "code",
   "execution_count": 29,
   "metadata": {},
   "outputs": [],
   "source": [
    "# query Instagram\n",
    "api = Client(user_name, password)\n",
    "results = api.self_feed()\n",
    "items = [item for item in results.get('feed_items', [])\n",
    "         if item.get('media_or_ad')]\n",
    "for item in items:\n",
    "    # Manually patch the entity to match the public api as closely as possible, optional\n",
    "    # To automatically patch entities, initialise the Client with auto_patch=True\n",
    "    ClientCompatPatch.media(item['media_or_ad'])\n",
    "    print(item['media_or_ad']['code'])"
   ]
  },
  {
   "cell_type": "code",
   "execution_count": 35,
   "metadata": {},
   "outputs": [],
   "source": [
    "def do_color_things(im):\n",
    "    NUM_CLUSTERS = 10\n",
    "\n",
    "    im = im.resize((im.width//5, im.height//5))      # optional, to reduce time\n",
    "    ar = np.asarray(im)\n",
    "    shape = ar.shape\n",
    "    ar = ar.reshape(np.product(shape[:2]), shape[2]).astype(float)\n",
    "\n",
    "    codes, dist = scipy.cluster.vq.kmeans(ar, NUM_CLUSTERS)\n",
    "\n",
    "    vecs, dist = scipy.cluster.vq.vq(ar, codes)         # assign codes\n",
    "    counts, bins = np.histogram(vecs, len(codes))    # count occurrences\n",
    "\n",
    "    index_max = np.argmax(counts)                    # find most frequent\n",
    "    peak = codes[index_max]\n",
    "    color = binascii.hexlify(str.encode(''.join(chr(int(c)) for c in peak)))\n",
    "    return peak, color"
   ]
  },
  {
   "cell_type": "code",
   "execution_count": 37,
   "metadata": {},
   "outputs": [],
   "source": [
    "count = 0\n",
    "for x in results['items']:\n",
    "    count += 1\n",
    "    if 'carousel_media' in x.keys():\n",
    "        img_url = x['carousel_media'][0]['image_versions2']['candidates'][0]['url']\n",
    "    else:\n",
    "        img_url = x['image_versions2']['candidates'][0]['url']\n",
    "        \n",
    "    response = requests.get(img_url)\n",
    "    im = Image.open(BytesIO(response.content))\n",
    "    peak, color = do_color_things(im)\n",
    "    test_img = Image.new('RGB', (im.width, im.height),tuple([int(x) for x in peak]))\n",
    "    test_img.show()\n",
    "    #print('{}: {} {}'.format(count, peak, color))"
   ]
  },
  {
   "cell_type": "code",
   "execution_count": null,
   "metadata": {},
   "outputs": [],
   "source": []
  },
  {
   "cell_type": "code",
   "execution_count": null,
   "metadata": {},
   "outputs": [],
   "source": [
    "#hex_code = [x for x in colors[0]][0]"
   ]
  },
  {
   "cell_type": "code",
   "execution_count": null,
   "metadata": {},
   "outputs": [],
   "source": [
    "test_img = Image.new('RGB', (im.width, im.height),tuple([int(x) for x in peak]))"
   ]
  },
  {
   "cell_type": "code",
   "execution_count": null,
   "metadata": {},
   "outputs": [],
   "source": [
    "test_img.show()"
   ]
  },
  {
   "cell_type": "code",
   "execution_count": null,
   "metadata": {},
   "outputs": [],
   "source": [
    "im.show()"
   ]
  },
  {
   "cell_type": "code",
   "execution_count": null,
   "metadata": {},
   "outputs": [],
   "source": [
    "# https://stackoverflow.com/questions/3241929/python-find-dominant-most-common-color-in-an-image\n",
    "# found link twice"
   ]
  }
 ],
 "metadata": {
  "kernelspec": {
   "display_name": "Python 3",
   "language": "python",
   "name": "python3"
  },
  "language_info": {
   "codemirror_mode": {
    "name": "ipython",
    "version": 3
   },
   "file_extension": ".py",
   "mimetype": "text/x-python",
   "name": "python",
   "nbconvert_exporter": "python",
   "pygments_lexer": "ipython3",
   "version": "3.8.5"
  }
 },
 "nbformat": 4,
 "nbformat_minor": 2
}
