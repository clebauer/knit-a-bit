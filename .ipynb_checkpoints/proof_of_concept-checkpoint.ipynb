{
 "cells": [
  {
   "cell_type": "code",
   "execution_count": 1,
   "metadata": {
    "scrolled": true
   },
   "outputs": [],
   "source": [
    "def knitting_pattern(mapping, sample_data, width):\n",
    "    total = 0\n",
    "    total2 = 0\n",
    "    pattern = 'CAST ON {} STS\\n\\n'.format(width)\n",
    "    \n",
    "    for i in range(0, len(sample_data)):\n",
    "        stitch = mapping[sample_data[i]]\n",
    "        if (total + stitch['needed'] > width):\n",
    "            for j in range(0, width - total):\n",
    "                total += 1\n",
    "                pattern += '{} (Total: {})\\n'.format('K', total)\n",
    "            total = 0 \n",
    "            total2 = 0\n",
    "            pattern += '\\nNEW ROW\\n\\n'\n",
    "        total += stitch['needed'] \n",
    "        total2 += stitch['created']\n",
    "            \n",
    "        pattern +='{} (Total: {} now, {} left)\\n'.format(stitch['abbrev'],\n",
    "                                                     total2,\n",
    "                                                     width-total)\n",
    "    for j in range(0, width - total):\n",
    "            total += 1\n",
    "            pattern +='{} (Total: {})\\n'.format('K', total)\n",
    "    \n",
    "    pattern +='\\nCAST OFF {} sts'.format(width)\n",
    "    return pattern"
   ]
  },
  {
   "cell_type": "code",
   "execution_count": 2,
   "metadata": {
    "collapsed": true
   },
   "outputs": [],
   "source": [
    "mapping = {0:{'abbrev':'K',     'needed':1, 'created':1,},\n",
    "           1:{'abbrev':'P',     'needed':1, 'created':1,},\n",
    "           2:{'abbrev':'YO',    'needed':0, 'created':1,},\n",
    "           3:{'abbrev':'K2TOG', 'needed':2, 'created':1}}\n",
    "\n",
    "sample_data = [3, 2, 3, 2, 3, 2, 3, 2, 2, 3, \n",
    "               0, 0, 0, 0, 0, 0, 0, 0, 0, 0,\n",
    "               1, 1, 1, 1, 1, 1, 1, 1, 1, \n",
    "               3, 2, 3, 2, 2, 0, 2]\n",
    "\n",
    "width = 10\n",
    "\n",
    "# if a row asks for more stitches than it has available, it will move that\n",
    "# stitch request to the next row and pad the row with knit stitches."
   ]
  },
  {
   "cell_type": "code",
   "execution_count": 3,
   "metadata": {},
   "outputs": [
    {
     "name": "stdout",
     "output_type": "stream",
     "text": [
      "CAST ON 10 STS\n",
      "\n",
      "K2TOG (Total: 1 now, 8 left)\n",
      "YO (Total: 2 now, 8 left)\n",
      "K2TOG (Total: 3 now, 6 left)\n",
      "YO (Total: 4 now, 6 left)\n",
      "K2TOG (Total: 5 now, 4 left)\n",
      "YO (Total: 6 now, 4 left)\n",
      "K2TOG (Total: 7 now, 2 left)\n",
      "YO (Total: 8 now, 2 left)\n",
      "YO (Total: 9 now, 2 left)\n",
      "K2TOG (Total: 10 now, 0 left)\n",
      "\n",
      "NEW ROW\n",
      "\n",
      "K (Total: 1 now, 9 left)\n",
      "K (Total: 2 now, 8 left)\n",
      "K (Total: 3 now, 7 left)\n",
      "K (Total: 4 now, 6 left)\n",
      "K (Total: 5 now, 5 left)\n",
      "K (Total: 6 now, 4 left)\n",
      "K (Total: 7 now, 3 left)\n",
      "K (Total: 8 now, 2 left)\n",
      "K (Total: 9 now, 1 left)\n",
      "K (Total: 10 now, 0 left)\n",
      "\n",
      "NEW ROW\n",
      "\n",
      "P (Total: 1 now, 9 left)\n",
      "P (Total: 2 now, 8 left)\n",
      "P (Total: 3 now, 7 left)\n",
      "P (Total: 4 now, 6 left)\n",
      "P (Total: 5 now, 5 left)\n",
      "P (Total: 6 now, 4 left)\n",
      "P (Total: 7 now, 3 left)\n",
      "P (Total: 8 now, 2 left)\n",
      "P (Total: 9 now, 1 left)\n",
      "K (Total: 10)\n",
      "\n",
      "NEW ROW\n",
      "\n",
      "K2TOG (Total: 1 now, 8 left)\n",
      "YO (Total: 2 now, 8 left)\n",
      "K2TOG (Total: 3 now, 6 left)\n",
      "YO (Total: 4 now, 6 left)\n",
      "YO (Total: 5 now, 6 left)\n",
      "K (Total: 6 now, 5 left)\n",
      "YO (Total: 7 now, 5 left)\n",
      "K (Total: 6)\n",
      "K (Total: 7)\n",
      "K (Total: 8)\n",
      "K (Total: 9)\n",
      "K (Total: 10)\n",
      "\n",
      "CAST OFF 10 sts\n"
     ]
    }
   ],
   "source": [
    "print knitting_pattern(mapping, sample_data, width)"
   ]
  },
  {
   "cell_type": "code",
   "execution_count": null,
   "metadata": {
    "collapsed": true
   },
   "outputs": [],
   "source": []
  }
 ],
 "metadata": {
  "kernelspec": {
   "display_name": "Python 2",
   "language": "python",
   "name": "python2"
  },
  "language_info": {
   "codemirror_mode": {
    "name": "ipython",
    "version": 2
   },
   "file_extension": ".py",
   "mimetype": "text/x-python",
   "name": "python",
   "nbconvert_exporter": "python",
   "pygments_lexer": "ipython2",
   "version": "2.7.12"
  }
 },
 "nbformat": 4,
 "nbformat_minor": 2
}
