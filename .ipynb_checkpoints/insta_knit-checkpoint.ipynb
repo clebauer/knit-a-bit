{
 "cells": [
  {
   "cell_type": "code",
   "execution_count": null,
   "metadata": {
    "collapsed": true
   },
   "outputs": [],
   "source": [
    "# https://stackoverflow.com/questions/3241929/python-find-dominant-most-common-color-in-an-image\n"
   ]
  },
  {
   "cell_type": "code",
   "execution_count": 82,
   "metadata": {},
   "outputs": [
    {
     "name": "stdout",
     "output_type": "stream",
     "text": [
      "reading image\n",
      "finding clusters\n",
      "cluster centres:\n",
      "[[ 35.05583127  48.89081886 106.92493797]\n",
      " [200.86398334 144.92054129 136.31505899]\n",
      " [134.89621087  79.24162548  68.70345964]\n",
      " [173.5690004  114.62120599 104.20760826]\n",
      " [235.09889395 198.67859466 197.8415745 ]\n",
      " [ 87.26611227 119.78863479 174.93555094]\n",
      " [237.89041704 227.67790594 227.65350488]\n",
      " [ 53.45360825  83.42019197 147.35193743]\n",
      " [220.82561218 172.83454666 168.76273991]\n",
      " [ 83.9765343   35.2400722   26.46750903]]\n"
     ]
    }
   ],
   "source": [
    "import struct\n",
    "from PIL import Image\n",
    "import numpy as np\n",
    "import scipy\n",
    "import scipy.misc\n",
    "import scipy.cluster\n",
    "\n",
    "NUM_CLUSTERS = 10\n",
    "\n",
    "print 'reading image'\n",
    "im = Image.open('shoes.jpg')\n",
    "im = im.resize((150, 150))      # optional, to reduce time\n",
    "ar = np.asarray(im)\n",
    "shape = ar.shape\n",
    "ar = ar.reshape(scipy.product(shape[:2]), shape[2]).astype(float)\n",
    "\n",
    "print 'finding clusters'\n",
    "codes, dist = scipy.cluster.vq.kmeans(ar, NUM_CLUSTERS)\n",
    "print 'cluster centres:\\n', codes\n",
    "\n",
    "vecs, dist = scipy.cluster.vq.vq(ar, codes)         # assign codes\n",
    "counts, bins = scipy.histogram(vecs, len(codes))    # count occurrences\n",
    "\n",
    "index_max = scipy.argmax(counts)                    # find most frequent\n",
    "peak = codes[index_max]\n",
    "colour = ''.join(chr(int(c)) for c in peak).encode('hex')"
   ]
  },
  {
   "cell_type": "code",
   "execution_count": 84,
   "metadata": {
    "collapsed": true
   },
   "outputs": [],
   "source": [
    "colors = {}\n",
    "sorted_order = np.argsort(counts)[::-1]\n",
    "for i in range(len(sorted_order)):\n",
    "    elem_num = sorted_order[i]\n",
    "    peak = codes[elem_num]\n",
    "    colour = ''.join(chr(int(c)) for c in peak).encode('hex')\n",
    "    colors[i] = {colour:counts[elem_num]}"
   ]
  },
  {
   "cell_type": "code",
   "execution_count": 85,
   "metadata": {},
   "outputs": [
    {
     "data": {
      "text/plain": [
       "{0: {'ebc6c5': 3079},\n",
       " 1: {'dcaca8': 3037},\n",
       " 2: {'c89088': 2878},\n",
       " 3: {'355393': 2818},\n",
       " 4: {'ad7268': 2456},\n",
       " 5: {'ede3e3': 2274},\n",
       " 6: {'864f44': 1803},\n",
       " 7: {'23306a': 1614},\n",
       " 8: {'5777ae': 1435},\n",
       " 9: {'53231a': 1106}}"
      ]
     },
     "execution_count": 85,
     "metadata": {},
     "output_type": "execute_result"
    }
   ],
   "source": [
    "colors"
   ]
  },
  {
   "cell_type": "code",
   "execution_count": null,
   "metadata": {
    "collapsed": true
   },
   "outputs": [],
   "source": []
  }
 ],
 "metadata": {
  "kernelspec": {
   "display_name": "Python 2",
   "language": "python",
   "name": "python2"
  },
  "language_info": {
   "codemirror_mode": {
    "name": "ipython",
    "version": 2
   },
   "file_extension": ".py",
   "mimetype": "text/x-python",
   "name": "python",
   "nbconvert_exporter": "python",
   "pygments_lexer": "ipython2",
   "version": "2.7.12"
  }
 },
 "nbformat": 4,
 "nbformat_minor": 2
}
